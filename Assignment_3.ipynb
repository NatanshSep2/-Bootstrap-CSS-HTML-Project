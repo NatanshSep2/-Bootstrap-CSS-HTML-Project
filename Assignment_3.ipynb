{
  "nbformat": 4,
  "nbformat_minor": 0,
  "metadata": {
    "colab": {
      "provenance": [],
      "authorship_tag": "ABX9TyN/LKfN7CdXpalaWZPBVsnK",
      "include_colab_link": true
    },
    "kernelspec": {
      "name": "python3",
      "display_name": "Python 3"
    },
    "language_info": {
      "name": "python"
    }
  },
  "cells": [
    {
      "cell_type": "markdown",
      "metadata": {
        "id": "view-in-github",
        "colab_type": "text"
      },
      "source": [
        "<a href=\"https://colab.research.google.com/github/NatanshSep2/-Bootstrap-CSS-HTML-Project/blob/master/Assignment_3.ipynb\" target=\"_parent\"><img src=\"https://colab.research.google.com/assets/colab-badge.svg\" alt=\"Open In Colab\"/></a>"
      ]
    },
    {
      "cell_type": "markdown",
      "source": [
        "                                                    Galgotias University\n",
        "      Name    : Natansh Kpail\n",
        "      Course  : Btech cse\n",
        "      Roll_no : 23scse1010285\n",
        "      sub.    : Python lab"
      ],
      "metadata": {
        "id": "3PrxQxGzaBAm"
      }
    },
    {
      "cell_type": "code",
      "execution_count": null,
      "metadata": {
        "colab": {
          "base_uri": "https://localhost:8080/"
        },
        "id": "FmAE06NdYM0U",
        "outputId": "9f237e27-ecd7-41eb-a326-1dbf5afd039e"
      },
      "outputs": [
        {
          "output_type": "stream",
          "name": "stdout",
          "text": [
            "Enter the elements of the list separated by spaces: 1 2 3 4 5\n",
            "The list without duplicate elements is: ['4', '2', '5', '3', '1']\n"
          ]
        }
      ],
      "source": [
        "\n",
        "# Question 1 :  Create a list with the user-given input elements. Write a program to remove all the duplicate elements\n",
        "# from the given input list.\n",
        "\n",
        "def Na_remove_dub_285(list1):\n",
        "    # create a set to store unique elements\n",
        "    sh_unique_ele = set(list1)\n",
        "\n",
        "    # convert the set back to a list\n",
        "    sh_list = list(sh_unique_ele)\n",
        "\n",
        "    # return the list with duplicate elements removed\n",
        "    return sh_list\n",
        "\n",
        "\n",
        "# get the input list from the user\n",
        "sh_list = input(\"Enter the elements of the list separated by spaces: \").split()\n",
        "\n",
        "# remove duplicate elements from the list\n",
        "sh_list = Na_remove_dub_285(sh_list)\n",
        "\n",
        "# print the list without duplicate elements\n",
        "print(\"The list without duplicate elements is:\", sh_list)\n"
      ]
    },
    {
      "cell_type": "code",
      "source": [
        "# Question 2 : Create two lists with the user-given elements. Write a program to check whether the first or last\n",
        "# elements of two lists are the same or not. If yes print True, otherwise print False as shown in the\n",
        "# examples.\n",
        "\n",
        "def natansh_check_first_last_23scse1010285(list1, list2):\n",
        "  # Check if the first elements of both lists are equal\n",
        "  if list1[0] == list2[0]:\n",
        "    return True\n",
        "\n",
        "  # Check if the last elements of both lists are equal\n",
        "  if list1[-1] == list2[-1]:\n",
        "    return True\n",
        "\n",
        "  # Otherwise, return False\n",
        "  return False\n",
        "\n",
        "\n",
        "# Get the input lists from the user\n",
        "list1 = input(\"Enter the elements of the first list separated by spaces: \").split()\n",
        "list2 = input(\"Enter the elements of the second list separated by spaces: \").split()\n",
        "\n",
        "# Check if the first or last elements of the lists are the same\n",
        "result = natansh_check_first_last_23scse1010285(list1, list2)\n",
        "\n",
        "# Print the result\n",
        "print(result)\n"
      ],
      "metadata": {
        "colab": {
          "base_uri": "https://localhost:8080/"
        },
        "id": "bCIjM2M7au5b",
        "outputId": "708b7cef-60aa-41ec-826f-05d8f1699c91"
      },
      "execution_count": null,
      "outputs": [
        {
          "output_type": "stream",
          "name": "stdout",
          "text": [
            "Enter the elements of the first list separated by spaces: 1 2 3 4 5\n",
            "Enter the elements of the second list separated by spaces: 1 8 9 7 5\n",
            "True\n"
          ]
        }
      ]
    },
    {
      "cell_type": "code",
      "source": [
        "\n",
        "#Question 3 - Create a list with the user-given inputs.\n",
        "# Take an index value `n` from the user.\n",
        "# Write a program to update the list with the user-given element based on the index `n`.\n",
        "# If the index is not in the range, print an error message.\n",
        "\n",
        "def natansh_create_list_285():\n",
        "    data = input(\"Enter comma-separated values: \")\n",
        "    return data.split(',')\n",
        "\n",
        "def up285_lst_kap(lst):\n",
        "    n = int(input(\"Enter index: \"))\n",
        "    ele_kapil = input(\"Enter element: \")\n",
        "    if -len(lst) <= n < len(lst):\n",
        "        lst[n] = ele_kapil\n",
        "    else:\n",
        "        print('invalid index')\n",
        "\n",
        "def p285_lst_kap(lst):\n",
        "    print(\"after updation:\", lst)\n",
        "\n",
        "# Test the functions\n",
        "lst = natansh_create_list_285()\n",
        "print(\"before updation:\", lst)\n",
        "up285_lst_kap(lst)\n",
        "p285_lst_kap(lst)"
      ],
      "metadata": {
        "colab": {
          "base_uri": "https://localhost:8080/"
        },
        "id": "_6JcKxBoibIY",
        "outputId": "4255d6b7-7f3f-4d91-81a4-a910bdfc38d5"
      },
      "execution_count": null,
      "outputs": [
        {
          "output_type": "stream",
          "name": "stdout",
          "text": [
            "Enter comma-separated values: natansh kapil raj kajal\n",
            "before updation: ['natansh kapil raj kajal']\n",
            "Enter index: 2\n",
            "Enter element: sharma\n",
            "invalid index\n",
            "after updation: ['natansh kapil raj kajal']\n"
          ]
        }
      ]
    },
    {
      "cell_type": "code",
      "source": [
        "# Question - 4 Write a Python program to create a list with user-given inputs.\n",
        "# Take an index value n from the user and update the list with a user-given element based\n",
        "# on the index n. If the index is not in the range, print an error message as shown\n",
        "# in the sample test cases.\n",
        "\n",
        "\n",
        "def kapil_create_list_285():\n",
        "    data = input(\"Enter comma-separated values: \")\n",
        "    return data.split(',')\n",
        "\n",
        "def update_list(lst):\n",
        "    nata_285 = int(input(\"Enter index: \"))\n",
        "    element = input(\"Enter element: \")\n",
        "    if -len(lst) <= nata_285 < len(lst):\n",
        "        lst[nata_285] = element\n",
        "    else:\n",
        "        print('invalid index')\n",
        "\n",
        "def print_list(lst, message='after updation:'):\n",
        "    print(message, lst)\n",
        "\n",
        "# Test the functions\n",
        "data = input(\"Enter comma-separated values: \")\n",
        "lst = kapil_create_list_285()\n",
        "print(\"before updation:\", lst)\n",
        "nata_285 = int(input(\"Enter index: \"))\n",
        "element = input(\"Enter element: \")\n",
        "update_list(lst)\n",
        "print_list(lst)"
      ],
      "metadata": {
        "colab": {
          "base_uri": "https://localhost:8080/"
        },
        "id": "01zFpTaVmMxX",
        "outputId": "f3111a65-9d39-479d-d557-928c5af4650b"
      },
      "execution_count": null,
      "outputs": [
        {
          "output_type": "stream",
          "name": "stdout",
          "text": [
            "Enter comma-separated values: java pyhton\n",
            "Enter comma-separated values: swift c\n",
            "before updation: ['swift c']\n",
            "Enter index: 2\n",
            "Enter element: java c cpp\n",
            "Enter index: 2\n",
            "Enter element: html css js\n",
            "invalid index\n",
            "after updation: ['swift c']\n"
          ]
        }
      ]
    },
    {
      "cell_type": "code",
      "source": [
        "#Question 5\n",
        "natansh_kapil_n = input(\"Please enter a sentence: \")\n",
        "kapil_string2 = natansh_kapil_n.lower()\n",
        "kapil_char_sharma_285 = {}\n",
        "for i in kapil_string2:\n",
        "    if i.isalpha():\n",
        "        if i in kapil_char_sharma_285:\n",
        "            kapil_char_sharma_285[i] += 1\n",
        "        else:\n",
        "            kapil_char_sharma_285[i] = 1\n",
        "\n",
        "sorted_char_counts = dict(sorted(kapil_char_sharma_285.items()))\n",
        "for key, value in sorted_char_counts.items():\n",
        "    print(key, ',', value)"
      ],
      "metadata": {
        "colab": {
          "base_uri": "https://localhost:8080/"
        },
        "id": "lAre9PqgqMxx",
        "outputId": "4fb48ba6-3bc5-4df1-dff5-ac2c64d7995c"
      },
      "execution_count": null,
      "outputs": [
        {
          "output_type": "stream",
          "name": "stdout",
          "text": [
            "Please enter a sentence: Gaziabad\n",
            "a , 3\n",
            "b , 1\n",
            "d , 1\n",
            "g , 1\n",
            "i , 1\n",
            "z , 1\n"
          ]
        }
      ]
    },
    {
      "cell_type": "code",
      "source": [
        "# Question 6\n",
        "natansh_list1_kap = list(map(int, input(\"Enter a seq of elements: \").split(',')))\n",
        "natansh_list2_kap = list(map(int, input(\"Enter another seq of elements: \").split(',')))\n",
        "\n",
        "for i in natansh_list2_kap:\n",
        "    if i not in natansh_list1_kap:\n",
        "        print(i, \"does not exist.\")\n",
        "    else:\n",
        "        print(i, \"is in the list.\")\n"
      ],
      "metadata": {
        "colab": {
          "base_uri": "https://localhost:8080/"
        },
        "id": "Xep7tRMcq3yJ",
        "outputId": "d0c434f3-37ff-4c89-feff-1e9d7f6e96d8"
      },
      "execution_count": null,
      "outputs": [
        {
          "output_type": "stream",
          "name": "stdout",
          "text": [
            "Enter a seq of elements: 10,20,30,40,50,60,70,80,90\n",
            "Enter another seq of elements: 60,70,80,90\n",
            "60 is in the list.\n",
            "70 is in the list.\n",
            "80 is in the list.\n",
            "90 is in the list.\n"
          ]
        }
      ]
    },
    {
      "cell_type": "code",
      "source": [
        "#Quesiton 7\n",
        "natansh_tup = tuple(map(str, input(\"Enter data: \").split(',')))\n",
        "print(\"tuple:\", natansh_tup)\n",
        "\n",
        "element = input(\"Enter an element: \")\n",
        "if element in natansh_tup:\n",
        "    index = natansh_tup.index(element)\n",
        "    print(\"Index:\", index)\n",
        "else:\n",
        "    print(\"Enter an element that exists in the tuple.\")"
      ],
      "metadata": {
        "colab": {
          "base_uri": "https://localhost:8080/"
        },
        "id": "WlEaNikysgha",
        "outputId": "91910458-2da5-4071-c180-6e6a2ed463f8"
      },
      "execution_count": null,
      "outputs": [
        {
          "output_type": "stream",
          "name": "stdout",
          "text": [
            "Enter data: mango,orange,apple\n",
            "tuple: ('mango', 'orange', 'apple')\n",
            "Enter an element: apple\n",
            "Index: 2\n"
          ]
        }
      ]
    },
    {
      "cell_type": "code",
      "source": [
        "#Question 8\n",
        "kapil_tuple_285 = tuple(map(str, input(\"Enter data: \").split(',')))\n",
        "print(\"kapil_tuple_285:\", kapil_tuple_285)\n",
        "\n",
        "element = input(\"Enter an element: \")\n",
        "count_kapil = 0\n",
        "for i in kapil_tuple_285:\n",
        "    if i == element:\n",
        "        count_kapil += 1\n",
        "if count_kapil > 0:\n",
        "    print(\"Exists\", count_kapil, \"times.\")\n",
        "else:\n",
        "    print(\"Enter a valid element.\")"
      ],
      "metadata": {
        "colab": {
          "base_uri": "https://localhost:8080/"
        },
        "id": "N-sMzzCmtIAd",
        "outputId": "6c2f1559-210f-4959-cb3f-d4a81c395c74"
      },
      "execution_count": null,
      "outputs": [
        {
          "output_type": "stream",
          "name": "stdout",
          "text": [
            "Enter data: yello blue red\n",
            "kapil_tuple_285: ('yello blue red',)\n",
            "Enter an element: red\n",
            "Enter a valid element.\n"
          ]
        }
      ]
    },
    {
      "cell_type": "code",
      "source": [
        "#Question - 9\n",
        "Natansh_tup_285 = tuple(map(str, input(\"Enter data: \").split(',')))\n",
        "print(\"Natansh_tup_285:\", Natansh_tup_285)\n",
        "\n",
        "element = input(\"Enter an element: \")\n",
        "kapil_set_285 = set(Natansh_tup_285)\n",
        "if element in kapil_set_285:\n",
        "    kapil_set_285.discard(element)\n",
        "    print(\"Before deletion:\", Natansh_tup_285)\n",
        "    print(\"After deletion:\", tuple(kapil_set_285))\n",
        "else:\n",
        "    print(\"Element does not exist.\")"
      ],
      "metadata": {
        "colab": {
          "base_uri": "https://localhost:8080/"
        },
        "id": "tLFbwB7PubHT",
        "outputId": "235e9b82-4a16-4ed2-da6e-ad8b5a798754"
      },
      "execution_count": null,
      "outputs": [
        {
          "output_type": "stream",
          "name": "stdout",
          "text": [
            "Enter data: 10,20,30,40\n",
            "Natansh_tup_285: ('10', '20', '30', '40')\n",
            "Enter an element: 30\n",
            "Before deletion: ('10', '20', '30', '40')\n",
            "After deletion: ('10', '20', '40')\n"
          ]
        }
      ]
    },
    {
      "cell_type": "code",
      "source": [
        "#Question - 10\n",
        "natansh_tuple_285 = tuple(map(str, input(\"Enter tuple elements separated by commas: \").split(',')))\n",
        "natansh_tuple_285 = ('apple', 'banana', 'orange')\n",
        "\n",
        "if natansh_tuple_285 == natansh_tuple_285:\n",
        "    print(\"True\")\n",
        "else:\n",
        "    print(\"False\")"
      ],
      "metadata": {
        "colab": {
          "base_uri": "https://localhost:8080/"
        },
        "id": "fg6zaYGzvkaS",
        "outputId": "d9c1f7a7-ab53-449e-b15f-86559f7cd968"
      },
      "execution_count": null,
      "outputs": [
        {
          "output_type": "stream",
          "name": "stdout",
          "text": [
            "Enter tuple elements separated by commas: 10,20,30\n",
            "True\n"
          ]
        }
      ]
    },
    {
      "cell_type": "code",
      "source": [
        "#Question - 11\n",
        "kapil_tuple1 = tuple(map(str, input(\"Enter data: \").split(',')))\n",
        "natansh_list = list(kapil_tuple1)\n",
        "x = int(input(\"Index: \"))\n",
        "if -len(natansh_list) <= x < len(natansh_list):\n",
        "    y = input(\"Value: \")\n",
        "    natansh_list.insert(x, y)\n",
        "    print(tuple(natansh_list))\n",
        "else:\n",
        "    print(\"Enter a valid index.\")"
      ],
      "metadata": {
        "colab": {
          "base_uri": "https://localhost:8080/"
        },
        "id": "i6byrgxswrE5",
        "outputId": "3dcf0b07-e749-458b-c211-c66f582b43b6"
      },
      "execution_count": null,
      "outputs": [
        {
          "output_type": "stream",
          "name": "stdout",
          "text": [
            "Enter data: 1,2,3,4,5,6\n",
            "Index: 3\n",
            "Value: 100\n",
            "('1', '2', '3', '100', '4', '5', '6')\n"
          ]
        }
      ]
    },
    {
      "cell_type": "code",
      "source": [
        "#Question - 12\n",
        "kapil_set1_285 = set(map(int, input(\"Enter data1: \").split(',')))\n",
        "kapil_set2_285 = set(map(int, input(\"Enter data2: \").split(',')))\n",
        "\n",
        "print(\"set1 sorted: \", sorted(list(kapil_set1_285)))\n",
        "print(\"set2 sorted: \", sorted(list(kapil_set2_285)))\n",
        "\n",
        "result1 = list(kapil_set1_285.difference(kapil_set2_285))\n",
        "print(\"difference using difference(): \", result1)\n",
        "\n",
        "kapil_set1_285.difference_update(kapil_set2_285)\n",
        "print(\"difference using difference_update(): \", list(kapil_set1_285))\n",
        "\n",
        "result2 = list(kapil_set1_285 - kapil_set2_285)\n",
        "print(\"difference using (set1 - set2): \", result2)\n",
        "\n",
        "kapil_set1_285 -= kapil_set2_285\n",
        "print(\"difference using (set -= set2): \", list(kapil_set1_285))\n"
      ],
      "metadata": {
        "colab": {
          "base_uri": "https://localhost:8080/"
        },
        "id": "P2CcHt3LxNNM",
        "outputId": "eaf97652-c6c2-4568-e59a-134f655da99d"
      },
      "execution_count": null,
      "outputs": [
        {
          "output_type": "stream",
          "name": "stdout",
          "text": [
            "Enter data1: 1,2,3,4,5,6\n",
            "Enter data2: 8,9,10,11,12\n",
            "set1 sorted:  [1, 2, 3, 4, 5, 6]\n",
            "set2 sorted:  [8, 9, 10, 11, 12]\n",
            "difference using difference():  [1, 2, 3, 4, 5, 6]\n",
            "difference using difference_update():  [1, 2, 3, 4, 5, 6]\n",
            "difference using (set1 - set2):  [1, 2, 3, 4, 5, 6]\n",
            "difference using (set -= set2):  [1, 2, 3, 4, 5, 6]\n"
          ]
        }
      ]
    },
    {
      "cell_type": "code",
      "source": [
        "#Question - 13"
      ],
      "metadata": {
        "id": "uJRBoDuzzQvO"
      },
      "execution_count": null,
      "outputs": []
    },
    {
      "cell_type": "code",
      "source": [
        "#Question - 14\n",
        "x = list(map(str, input(\"Enter data1: \").split(',')))\n",
        "y = list(map(str, input(\"Enter data2: \").split(',')))\n",
        "\n",
        "if len(x) != len(y):\n",
        "    print(\"Error: Number of keys and values should be equal.\")\n",
        "else:\n",
        "    kapil_d = {}\n",
        "    for i in range(len(x)):\n",
        "        kapil_d[x[i]] = y[i]\n",
        "\n",
        "    for k, v in kapil_d.items():\n",
        "        print(k, \":\", v)"
      ],
      "metadata": {
        "colab": {
          "base_uri": "https://localhost:8080/"
        },
        "id": "G-cVxZfYzS_S",
        "outputId": "87e42c70-e898-4f20-eca3-db8467b82d8f"
      },
      "execution_count": null,
      "outputs": [
        {
          "output_type": "stream",
          "name": "stdout",
          "text": [
            "Enter data1: 1 2 3 4 5 6\n",
            "Enter data2: 7 8 9 10 11 12\n",
            "1 2 3 4 5 6 : 7 8 9 10 11 12\n"
          ]
        }
      ]
    },
    {
      "cell_type": "code",
      "source": [
        "#Question - 15\n",
        "x = list(map(str, input(\"Enter data1: \").split(',')))\n",
        "y = list(map(str, input(\"Enter data2: \").split(',')))\n",
        "\n",
        "natansh_dictio_285 = {}\n",
        "for i in range(len(x)):\n",
        "    natansh_dictio_285[x[i]] = y[i]\n",
        "\n",
        "kapil_key = input(\"Enter key: \")\n",
        "if kapil_key in natansh_dictio_285:\n",
        "    g_value = input(\"Enter value: \")\n",
        "    natansh_dictio_285[kapil_key] = g_value\n",
        "    sorted_dict = {k: natansh_dictio_285[k] for k in sorted(natansh_dictio_285)}\n",
        "    print(sorted_dict)\n",
        "else:\n",
        "    print(\"Key does not exist.\")"
      ],
      "metadata": {
        "colab": {
          "base_uri": "https://localhost:8080/"
        },
        "id": "hX-015k_z3SW",
        "outputId": "69f64991-b993-461b-d72a-82417f78ad3a"
      },
      "execution_count": null,
      "outputs": [
        {
          "output_type": "stream",
          "name": "stdout",
          "text": [
            "Enter data1: name,age,gender\n",
            "Enter data2: natansh,19,male\n",
            "Enter key: 44\n",
            "Key does not exist.\n"
          ]
        }
      ]
    },
    {
      "cell_type": "code",
      "source": [
        "#Qestion - 16\n",
        "a = list(map(str, input(\"Enter data1: \").split(',')))\n",
        "b = list(map(str, input(\"Enter data2: \").split(',')))\n",
        "\n",
        "kapil_disct = {x[i]: y[i] for i in range(len(a))}\n",
        "\n",
        "natansh_key = input(\"Enter key: \")\n",
        "if natansh_key in kapil_disct:\n",
        "    print(True)\n",
        "else:\n",
        "    print(False)"
      ],
      "metadata": {
        "colab": {
          "base_uri": "https://localhost:8080/"
        },
        "id": "LvRzSNHp0jMG",
        "outputId": "6f981373-daee-441c-e102-dc8517b66dd8"
      },
      "execution_count": null,
      "outputs": [
        {
          "output_type": "stream",
          "name": "stdout",
          "text": [
            "Enter data1: 11 12 13 15 16\n",
            "Enter data2: 111 122 133 155 166\n",
            "Enter key: 5\n",
            "False\n"
          ]
        }
      ]
    },
    {
      "cell_type": "code",
      "source": [
        "#Question - 17\n",
        "Natansh = list(map(str, input(\"Enter data1: \").split(',')))\n",
        "print(\"content\",Natansh)\n"
      ],
      "metadata": {
        "colab": {
          "base_uri": "https://localhost:8080/"
        },
        "id": "58TxraXf1JWe",
        "outputId": "5e5ea55c-7550-41d4-d67c-9111c3028167"
      },
      "execution_count": null,
      "outputs": [
        {
          "output_type": "stream",
          "name": "stdout",
          "text": [
            "Enter data1: 1 2 3 4 5 6\n",
            "content ['1 2 3 4 5 6']\n"
          ]
        }
      ]
    },
    {
      "cell_type": "code",
      "source": [
        "#question - 18\n",
        "kapil_string = input(\"Enter a string: \")\n",
        "natanshn_um = int(input(\"Enter a number: \"))\n",
        "\n",
        "if 0 <= natanshn_um < len(kapil_string):\n",
        "    print(kapil_string[natanshn_um])\n",
        "else:\n",
        "    print(\"Number should be positive, less than length of string.\")"
      ],
      "metadata": {
        "colab": {
          "base_uri": "https://localhost:8080/"
        },
        "id": "Oq8x5O0n1slS",
        "outputId": "4673728f-f494-4023-cb93-6cfac60d9153"
      },
      "execution_count": null,
      "outputs": [
        {
          "output_type": "stream",
          "name": "stdout",
          "text": [
            "Enter a string: kapil\n",
            "Enter a number: 5\n",
            "Number should be positive, less than length of string.\n"
          ]
        }
      ]
    },
    {
      "cell_type": "code",
      "source": [
        "#Question - 19\n",
        "kapil_N = \"Hello\"\n",
        "\n",
        "def test1():\n",
        "    global kapil_N\n",
        "    kapil_N = \"Good Morning\"\n",
        "\n",
        "def test2():\n",
        "    global kapil_N\n",
        "    kapil_N = \"Good Night\"\n",
        "\n",
        "test1()\n",
        "print(kapil_N)\n",
        "test2()\n",
        "print(kapil_N)\n"
      ],
      "metadata": {
        "colab": {
          "base_uri": "https://localhost:8080/"
        },
        "id": "3k5bnZ7G2QUq",
        "outputId": "6f1a9f56-e780-45a8-ff7a-c15246e030a2"
      },
      "execution_count": null,
      "outputs": [
        {
          "output_type": "stream",
          "name": "stdout",
          "text": [
            "Good Morning\n",
            "Good Night\n"
          ]
        }
      ]
    },
    {
      "cell_type": "code",
      "source": [
        "#Question - 20\n",
        "def Kapil_sum_of_list(lst):\n",
        "    total = 0\n",
        "    for element in lst:\n",
        "        if isinstance(element, list):\n",
        "            total += Kapil_sum_of_list(element)\n",
        "        else:\n",
        "            total += element\n",
        "    return total\n",
        "\n",
        "L1 = [1, 10, 9, [3, 5, 7], [5, [6, 7], 97]]\n",
        "natansh_285_result = Kapil_sum_of_list(L1)\n",
        "print(\"Sum of list is:\", natansh_285_result)"
      ],
      "metadata": {
        "colab": {
          "base_uri": "https://localhost:8080/"
        },
        "id": "oCWMplVr2mPf",
        "outputId": "20a9af71-f6fd-4d19-b15d-50dbcf3472a0"
      },
      "execution_count": null,
      "outputs": [
        {
          "output_type": "stream",
          "name": "stdout",
          "text": [
            "Sum of list is: 150\n"
          ]
        }
      ]
    }
  ]
}